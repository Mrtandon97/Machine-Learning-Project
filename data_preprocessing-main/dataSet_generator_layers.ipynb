{
 "cells": [
  {
   "attachments": {},
   "cell_type": "markdown",
   "metadata": {},
   "source": [
    "# data_generator\n",
    "This repository contains the code for generating the dataset in npz format for the Capstone project.\n",
    "\n",
    "### Instructions\n",
    "1. Create folders for each class in the same directory, rename each folder as its label name. (It's what annotation_parser can do)\n",
    "2. Put images to each folder according to its label.\n",
    "3. set scale_percent(resizing image to scale_percent% of original image, unit:%, default = 100%) \n",
    "4. write down all labels (all folder's name) in array class_name\n",
    "5. set sliding window size to the correct width of the image, note that length must be equal to width.\n",
    "6. Adjust path, image format and export file name\n",
    "\n",
    "### Reference\n",
    "1. numpy save data: https://numpy.org/doc/stable/reference/generated/numpy.savez.html\n",
    "2. Iris datset training sample in Bunch format. https://scikit-learn.org/stable/auto_examples/svm/plot_iris_svc.html"
   ]
  },
  {
   "cell_type": "code",
   "execution_count": null,
   "metadata": {},
   "outputs": [],
   "source": [
    "from PIL import Image\n",
    "import matplotlib.pyplot as plt\n",
    "from matplotlib import image as im\n",
    "import numpy as np\n",
    "import os\n",
    "from sklearn.utils import Bunch"
   ]
  },
  {
   "cell_type": "code",
   "execution_count": null,
   "metadata": {},
   "outputs": [],
   "source": [
    "dataset_name = '_datasetC.npz'\n",
    "scale_percent = 25 # percent of original size\n",
    "class_name = ['top','middle','bottom']\n",
    "num_image = 23  # number of classes (folders' name is from 0 to 22)\n",
    "sliding_window_size = 200"
   ]
  },
  {
   "cell_type": "code",
   "execution_count": 108,
   "metadata": {},
   "outputs": [],
   "source": [
    "image_count = []\n",
    "total_image_count = 0\n",
    "for folder in class_name:\n",
    "    count = 0\n",
    "    for image_index in range(num_image):\n",
    "        path = f'cropped/{folder}/200_100/{image_index:03}/' # adjust to the right path of your dataset\n",
    "        if not os.path.exists(path):\n",
    "            continue\n",
    "        \n",
    "        for file_name in os.listdir(path):\n",
    "            if file_name.endswith(\".jpg\"):  # adjust to the right format of your dataset\n",
    "                count += 1\n",
    "    image_count.append(count)\n",
    "    total_image_count += count\n",
    "\n",
    "# sliding window parameters set up\n",
    "data = np.zeros([total_image_count, int(sliding_window_size*scale_percent*0.01), int(sliding_window_size*scale_percent*0.01)])\n",
    "labels = np.zeros(total_image_count)\n",
    "count = 0\n",
    "for label, folder in enumerate(class_name):\n",
    "    images = []\n",
    "    for image_index in range(num_image):\n",
    "        path = f'cropped/{folder}/200_100/{image_index:03}/' # adjust to the right path of your dataset\n",
    "        if not os.path.exists(path):\n",
    "            continue\n",
    "\n",
    "        for file_name in os.listdir(path):\n",
    "            if file_name.endswith(\".jpg\"): # adjust to the right format of your dataset\n",
    "                image = im.imread(f'{path}{file_name}')\n",
    "\n",
    "                #trans into grayscale\n",
    "                rgb_weights = [0.2989, 0.5870, 0.1140]\n",
    "                image = np.dot(image[...,:3], rgb_weights)\n",
    "\n",
    "                images.append(resizeImage(image, scale_percent))\n",
    "    data[count:count + image_count[label]] = np.array(images)\n",
    "    labels[count:count + image_count[label]] = np.ones(len(images)) * label\n",
    "    count += image_count[label]\n",
    "    \n",
    "    data = data.astype(np.uint8)\n",
    "    labels = labels.astype(np.uint8)\n",
    "\n",
    "np.savez(str(total_image_count)+ dataset_name, data=data, label=labels) # adjust to the right name of desired dataset name"
   ]
  },
  {
   "cell_type": "code",
   "execution_count": 101,
   "metadata": {},
   "outputs": [],
   "source": [
    "import cv2\n",
    "def resizeImage(image, scale_percent):\n",
    "    width = int(image.shape[1] * scale_percent / 100)\n",
    "    height = int(image.shape[0] * scale_percent / 100)\n",
    "    dim = (width, height)\n",
    "    # resize image\n",
    "    resized = cv2.resize(image, dim, interpolation = cv2.INTER_AREA)\n",
    "    return resized"
   ]
  }
 ],
 "metadata": {
  "kernelspec": {
   "display_name": "Python 3 (ipykernel)",
   "language": "python",
   "name": "python3"
  },
  "language_info": {
   "codemirror_mode": {
    "name": "ipython",
    "version": 3
   },
   "file_extension": ".py",
   "mimetype": "text/x-python",
   "name": "python",
   "nbconvert_exporter": "python",
   "pygments_lexer": "ipython3",
   "version": "3.10.9"
  },
  "vscode": {
   "interpreter": {
    "hash": "369f2c481f4da34e4445cda3fffd2e751bd1c4d706f27375911949ba6bb62e1c"
   }
  }
 },
 "nbformat": 4,
 "nbformat_minor": 4
}
