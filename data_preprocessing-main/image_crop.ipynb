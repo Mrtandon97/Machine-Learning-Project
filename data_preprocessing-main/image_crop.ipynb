{
 "cells": [
  {
   "cell_type": "code",
   "execution_count": 1,
   "metadata": {},
   "outputs": [],
   "source": [
    "import os\n",
    "import cv2\n",
    "import matplotlib.pyplot as plt"
   ]
  },
  {
   "cell_type": "code",
   "execution_count": 2,
   "metadata": {},
   "outputs": [],
   "source": [
    "def crop_image(save_path, image_name, sliding_window_size=200, step=100):\n",
    "    img = cv2.imread(f'{save_path}/{image_name}')\n",
    "\n",
    "    # Boundary constant of images\n",
    "    IMAGE_START = 64\n",
    "    AXIS_ZERO = 121\n",
    "    # exclude the left axis and data above 0 ms\n",
    "    img = img[AXIS_ZERO:, IMAGE_START:]\n",
    "\n",
    "    if not os.path.exists(f'{save_path}/cropped/{sliding_window_size}_{step}/{image_name}'):\n",
    "        os.makedirs(f'{save_path}/cropped/{sliding_window_size}_{step}/{image_name}')\n",
    "\n",
    "    for j in range(0, img.shape[0] - 1, step):\n",
    "        for i in range(0, img.shape[1] - 1, step):\n",
    "            if j + sliding_window_size > img.shape[0] - 1 or i + sliding_window_size > img.shape[1] - 1:\n",
    "                continue\n",
    "            sub_img = img[j:j + sliding_window_size, i:i + sliding_window_size]\n",
    "            cv2.imwrite(f'{save_path}/cropped/{sliding_window_size}_{step}/{image_name}/{j}-{j + sliding_window_size}_{i}-{i + sliding_window_size}.jpg', sub_img)"
   ]
  },
  {
   "cell_type": "markdown",
   "metadata": {},
   "source": [
    "# Sliding Window Parameters\n",
    "## Parameters\n",
    "- sliding_window_size: the height and the width of the sliding window\n",
    "- step: step of sliding window\n",
    "## How to use\n",
    "Put the file outside of the `UW` folder of GPR images. After execute the program, the cropped images will be generate in the `UW/cropped` folder.  \n",
    "The cropped images will be saved in the folder named after original image name.  \n",
    "The cropped images will be named after its start pixel and end pixel. "
   ]
  },
  {
   "cell_type": "code",
   "execution_count": 4,
   "metadata": {},
   "outputs": [],
   "source": [
    "# sliding window parameters set up\n",
    "sliding_window_size = 200\n",
    "step = 200\n",
    "for image_index in range(23):\n",
    "    img_name = f'WLT_350_210926 P_2111131 WLT_350_210926__{image_index:03} P_2111131.jpg'\n",
    "    if os.path.exists(f'UW/{img_name}'):\n",
    "        crop_image('UW', img_name, sliding_window_size, step)"
   ]
  }
 ],
 "metadata": {
  "kernelspec": {
   "display_name": "Python 3 (ipykernel)",
   "language": "python",
   "name": "python3"
  },
  "language_info": {
   "codemirror_mode": {
    "name": "ipython",
    "version": 3
   },
   "file_extension": ".py",
   "mimetype": "text/x-python",
   "name": "python",
   "nbconvert_exporter": "python",
   "pygments_lexer": "ipython3",
   "version": "3.9.13"
  },
  "vscode": {
   "interpreter": {
    "hash": "369f2c481f4da34e4445cda3fffd2e751bd1c4d706f27375911949ba6bb62e1c"
   }
  }
 },
 "nbformat": 4,
 "nbformat_minor": 2
}
