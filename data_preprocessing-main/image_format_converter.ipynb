{
 "cells": [
  {
   "cell_type": "code",
   "execution_count": 8,
   "metadata": {},
   "outputs": [],
   "source": [
    "import cv2\n",
    "import os\n",
    "\n",
    "save_path = 'unprocessed_images'\n",
    "\n",
    "for path in os.listdir(f'{save_path}'):\n",
    "    if path.endswith(f'.PNG'):\n",
    "        image = cv2.imread(f'{save_path}/{path}')\n",
    "        image_name = path.split('.PNG')[0]\n",
    "        cv2.imwrite(f'{save_path}/{image_name}.JPG', image)"
   ]
  }
 ],
 "metadata": {
  "kernelspec": {
   "display_name": "Python 3",
   "language": "python",
   "name": "python3"
  },
  "language_info": {
   "codemirror_mode": {
    "name": "ipython",
    "version": 3
   },
   "file_extension": ".py",
   "mimetype": "text/x-python",
   "name": "python",
   "nbconvert_exporter": "python",
   "pygments_lexer": "ipython3",
   "version": "3.10.0"
  },
  "orig_nbformat": 4
 },
 "nbformat": 4,
 "nbformat_minor": 2
}
