{
 "cells": [
  {
   "cell_type": "code",
   "execution_count": 2,
   "id": "1640958f",
   "metadata": {},
   "outputs": [],
   "source": [
    "import numpy as np\n",
    "from sklearn.ensemble import RandomForestClassifier\n",
    "from sklearn.metrics import classification_report, confusion_matrix, accuracy_score\n",
    "from sklearn.model_selection import train_test_split\n",
    "from sklearn.utils import Bunch\n",
    "from joblib import dump"
   ]
  },
  {
   "cell_type": "code",
   "execution_count": 3,
   "id": "d41bd1e1",
   "metadata": {},
   "outputs": [],
   "source": [
    "from skimage.feature import local_binary_pattern\n",
    "def lbp_histogram(image, radius, bins):\n",
    "    # compute the LBP histogram of the image\n",
    "    n_points = 8 * radius\n",
    "    lbp = local_binary_pattern(image, n_points, radius, method='uniform')\n",
    "    hist, _ = np.histogram(lbp, bins= bins, density=True)\n",
    "    return np.ravel(hist)"
   ]
  },
  {
   "cell_type": "code",
   "execution_count": 4,
   "id": "6bd8889c",
   "metadata": {},
   "outputs": [],
   "source": [
    "def random_forest_model(dataSet, testData_percentage, max_depth):\n",
    "    img_train, img_test, label_train, label_test = train_test_split(dataSet.data, dataSet.target, test_size=testData_percentage, random_state=0)\n",
    "    classifier = RandomForestClassifier(max_depth=max_depth, random_state=0)\n",
    "    \n",
    "    #fitting classifier model\n",
    "    classifier.fit(img_train, label_train)\n",
    "    \n",
    "    # classification_report outputs classification metrics\n",
    "    # such as precision, recall and F1 score\n",
    "    pred_result = classifier.predict(img_train)\n",
    "    print('Classification Training Report: \\n', classification_report(label_train, pred_result))\n",
    "    \n",
    "    # confusion_matrix outputs how many samples are correctly or incorrectly classified\n",
    "    print('Train Confusion Matrix: \\n', confusion_matrix(label_train, pred_result), \"\\n\")\n",
    "\n",
    "    # accuracy computes classification accuracy\n",
    "    print('Train Accuracy: ', accuracy_score(label_train, pred_result), '\\n')\n",
    "    \n",
    "    # testing with validate data\n",
    "    validate_result = classifier.predict(img_test)\n",
    "    print('Classification Testing Report: \\n', classification_report(label_test, validate_result, zero_division=0))\n",
    "    # `confusion_matrix` outputs how many samples are correctly or incorrectly classified\n",
    "    print('Test Confusion Matrix: \\n', confusion_matrix(label_test, validate_result), \"\\n\")\n",
    "    # `accuracy` computes classification accuracy\n",
    "    print('Test Accuracy: ', accuracy_score(label_test, validate_result))\n",
    "\n",
    "    # export model\n",
    "    dump(classifier, 'random_forest_model.joblib')"
   ]
  },
  {
   "cell_type": "code",
   "execution_count": 5,
   "id": "87aaf568",
   "metadata": {},
   "outputs": [
    {
     "name": "stdout",
     "output_type": "stream",
     "text": [
      "(1776, 200, 200)\n",
      "(1776, 9)\n"
     ]
    }
   ],
   "source": [
    "# load data from .npz file\n",
    "npdata = np.load(f'1776_datasetA_200_40.npz')\n",
    "print(npdata['data'].shape)\n",
    "\n",
    "number_image = 1776\n",
    "radius = 1\n",
    "bins = 8\n",
    "\n",
    "features=np.zeros(shape=(number_image, bins)) \n",
    "#add lbp to features\n",
    "for i in range(0,number_image):\n",
    "     features[i] = lbp_histogram(npdata['data'][i], radius, bins)\n",
    "        \n",
    "#add depth as features\n",
    "features = np.insert(features, bins, npdata['depth'], axis=1)\n",
    "print(features.shape)"
   ]
  },
  {
   "cell_type": "code",
   "execution_count": 6,
   "id": "1a5f59dd",
   "metadata": {},
   "outputs": [
    {
     "name": "stdout",
     "output_type": "stream",
     "text": [
      "(1776, 9)\n"
     ]
    }
   ],
   "source": [
    "# normalize lbp\n",
    "for i in range(number_image):\n",
    "    norm = np.linalg.norm(features[i, :bins])\n",
    "    for j in range(bins):\n",
    "        features[i, j] = features[i, j] / norm\n",
    "        \n",
    "norm = np.linalg.norm(features[:, bins])\n",
    "for i in range(number_image):\n",
    "    features[i, bins] = features[i, bins] / norm\n",
    "    \n",
    "# collect data\n",
    "dataset = Bunch(data = features, target=npdata['label'])\n",
    "print(dataset.data.shape)"
   ]
  },
  {
   "cell_type": "code",
   "execution_count": 7,
   "id": "acee07dc",
   "metadata": {},
   "outputs": [
    {
     "name": "stdout",
     "output_type": "stream",
     "text": [
      "Classification Training Report: \n",
      "               precision    recall  f1-score   support\n",
      "\n",
      "           0       0.97      0.70      0.81       213\n",
      "           1       0.68      0.96      0.80       142\n",
      "\n",
      "    accuracy                           0.81       355\n",
      "   macro avg       0.82      0.83      0.81       355\n",
      "weighted avg       0.85      0.81      0.81       355\n",
      "\n",
      "Train Confusion Matrix: \n",
      " [[149  64]\n",
      " [  5 137]] \n",
      "\n",
      "Train Accuracy:  0.8056338028169014 \n",
      "\n",
      "Classification Testing Report: \n",
      "               precision    recall  f1-score   support\n",
      "\n",
      "           0       0.93      0.76      0.84       830\n",
      "           1       0.73      0.91      0.81       591\n",
      "\n",
      "    accuracy                           0.83      1421\n",
      "   macro avg       0.83      0.84      0.82      1421\n",
      "weighted avg       0.85      0.83      0.83      1421\n",
      "\n",
      "Test Confusion Matrix: \n",
      " [[633 197]\n",
      " [ 51 540]] \n",
      "\n",
      "Test Accuracy:  0.8254750175932442\n"
     ]
    }
   ],
   "source": [
    "random_forest_model(dataset, 0.8, 2)"
   ]
  },
  {
   "cell_type": "code",
   "execution_count": null,
   "id": "406f495e",
   "metadata": {},
   "outputs": [],
   "source": []
  }
 ],
 "metadata": {
  "kernelspec": {
   "display_name": "Python 3 (ipykernel)",
   "language": "python",
   "name": "python3"
  },
  "language_info": {
   "codemirror_mode": {
    "name": "ipython",
    "version": 3
   },
   "file_extension": ".py",
   "mimetype": "text/x-python",
   "name": "python",
   "nbconvert_exporter": "python",
   "pygments_lexer": "ipython3",
   "version": "3.10.0"
  },
  "vscode": {
   "interpreter": {
    "hash": "369f2c481f4da34e4445cda3fffd2e751bd1c4d706f27375911949ba6bb62e1c"
   }
  }
 },
 "nbformat": 4,
 "nbformat_minor": 5
}
