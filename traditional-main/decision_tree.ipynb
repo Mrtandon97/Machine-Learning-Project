{
  "nbformat": 4,
  "nbformat_minor": 0,
  "metadata": {
    "colab": {
      "provenance": []
    },
    "kernelspec": {
      "name": "python3",
      "display_name": "Python 3"
    },
    "language_info": {
      "name": "python"
    }
  },
  "cells": [
    {
      "cell_type": "code",
      "execution_count": null,
      "metadata": {
        "id": "8j_8DdY1l8uS"
      },
      "outputs": [],
      "source": [
        "import numpy as np\n",
        "from sklearn import tree\n",
        "from sklearn.tree import DecisionTreeClassifier\n",
        "from sklearn.metrics import classification_report, confusion_matrix, accuracy_score\n",
        "from sklearn.model_selection import train_test_split\n",
        "from sklearn.utils import Bunch"
      ]
    },
    {
      "cell_type": "code",
      "source": [
        "def decision_tree_model(dataSet, testData_percentage, max_depth):\n",
        "    img_train, img_test, label_train, label_test = train_test_split(dataSet.data, dataSet.target, test_size=testData_percentage, random_state=0)\n",
        "    \n",
        "    classifier = DecisionTreeClassifier()\n",
        "    \n",
        "    #fitting classifier model\n",
        "    classifier.fit(img_train, label_train)\n",
        "    \n",
        "    # classification_report outputs classification metrics\n",
        "    # such as precision, recall and F1 score\n",
        "    pred_result = classifier.predict(img_train)\n",
        "    print('Classification Training Report: \\n', classification_report(label_train, pred_result))\n",
        "    \n",
        "    # confusion_matrix outputs how many samples are correctly or incorrectly classified\n",
        "    print('Train Confusion Matrix: \\n', confusion_matrix(label_train, pred_result), \"\\n\")\n",
        "\n",
        "    # accuracy computes classification accuracy\n",
        "    print('Train Accuracy: ', accuracy_score(label_train, pred_result), '\\n')\n",
        "    \n",
        "    # testing with validate data\n",
        "    validate_result = classifier.predict(img_test)\n",
        "    print('Classification Testing Report: \\n', classification_report(label_test, validate_result, zero_division=0))\n",
        "    # `confusion_matrix` outputs how many samples are correctly or incorrectly classified\n",
        "    print('Test Confusion Matrix: \\n', confusion_matrix(label_test, validate_result), \"\\n\")\n",
        "    # `accuracy` computes classification accuracy\n",
        "    print('Test Accuracy: ', accuracy_score(label_test, validate_result))"
      ],
      "metadata": {
        "id": "k-vNTgKbnLs8"
      },
      "execution_count": null,
      "outputs": []
    },
    {
      "cell_type": "code",
      "source": [
        "data_number = 2910\n",
        "cropped_window_size = 200\n",
        "# load data from .npz file\n",
        "npdata = np.load(f'{data_number}_datasetC_{cropped_window_size}x{cropped_window_size}.npz')\n",
        "\n",
        "print(npdata['data'].shape)\n",
        "img = np.zeros(shape=(data_number, cropped_window_size ** 2))\n",
        "for i in range(0, data_number): \n",
        "    img[i] = npdata['data'][i].reshape(-1) #flatten image - input data must be 1d-array\n",
        "print(img.shape, \"\\n\")\n",
        "\n",
        "# make dataset in Bunch format \n",
        "dataset = Bunch(data = img, target=npdata['label'])\n",
        "\n",
        "decision_tree_model(dataset, 0.2, 3)"
      ],
      "metadata": {
        "colab": {
          "base_uri": "https://localhost:8080/"
        },
        "id": "BJKwHCKCnPTD",
        "outputId": "c9aefae3-66e3-4c15-a5db-5f5af32a5cef"
      },
      "execution_count": null,
      "outputs": [
        {
          "output_type": "stream",
          "name": "stdout",
          "text": [
            "(2910, 200, 200)\n",
            "(2910, 40000) \n",
            "\n",
            "Classification Training Report: \n",
            "               precision    recall  f1-score   support\n",
            "\n",
            "           0       1.00      1.00      1.00       686\n",
            "           1       1.00      1.00      1.00       625\n",
            "           2       1.00      1.00      1.00      1017\n",
            "\n",
            "    accuracy                           1.00      2328\n",
            "   macro avg       1.00      1.00      1.00      2328\n",
            "weighted avg       1.00      1.00      1.00      2328\n",
            "\n",
            "Train Confusion Matrix: \n",
            " [[ 686    0    0]\n",
            " [   0  625    0]\n",
            " [   0    0 1017]] \n",
            "\n",
            "Train Accuracy:  1.0 \n",
            "\n",
            "Classification Testing Report: \n",
            "               precision    recall  f1-score   support\n",
            "\n",
            "           0       0.70      0.74      0.72       184\n",
            "           1       0.36      0.35      0.35       158\n",
            "           2       0.62      0.60      0.61       240\n",
            "\n",
            "    accuracy                           0.58       582\n",
            "   macro avg       0.56      0.56      0.56       582\n",
            "weighted avg       0.57      0.58      0.57       582\n",
            "\n",
            "Test Confusion Matrix: \n",
            " [[137  26  21]\n",
            " [ 36  55  67]\n",
            " [ 24  73 143]] \n",
            "\n",
            "Test Accuracy:  0.5756013745704467\n"
          ]
        }
      ]
    }
  ]
}