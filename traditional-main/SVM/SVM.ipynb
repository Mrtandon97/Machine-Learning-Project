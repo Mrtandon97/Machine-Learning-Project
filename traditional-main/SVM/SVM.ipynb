{
 "cells": [
  {
   "cell_type": "code",
   "execution_count": 1,
   "metadata": {},
   "outputs": [],
   "source": [
    "from sklearn import svm\n",
    "import pandas as pd\n",
    "import numpy as np\n",
    "import matplotlib.pyplot as plt\n",
    "from sklearn.model_selection import train_test_split\n",
    "from sklearn.metrics import classification_report, confusion_matrix, accuracy_score\n",
    "from joblib import dump\n",
    "\n",
    "def svm_model(dataSet, testData_persentage, svm_kernel_type, poly_degree):\n",
    "    img_train, img_test, label_train, label_test = train_test_split(dataSet.data, dataSet.target,test_size=testData_persentage,random_state=0)\n",
    "    classifier = svm.SVC(kernel = svm_kernel_type, C = 1, gamma = 'auto', degree = poly_degree)\n",
    "    \n",
    "    #fitting classifier model\n",
    "    classifier.fit(img_train, label_train)\n",
    "    \n",
    "    # classification_report outputs classification metrics\n",
    "    # such as precision, recall and F1 score\n",
    "    pred_result = classifier.predict(img_train)\n",
    "    print('Classification Training Report: \\n', classification_report(label_train, pred_result))\n",
    "    \n",
    "    # confusion_matrix outputs how many samples are correctly or incorrectly classified\n",
    "    print('Train Confusion Matrix: \\n', confusion_matrix(label_train, pred_result), \"\\n\")\n",
    "\n",
    "    # accuracy computes classification accuracy\n",
    "    print('Train Accuracy: ', accuracy_score(label_train, pred_result))\n",
    "    print('\\n')\n",
    "    \n",
    "    # testing with validate data\n",
    "    validate_result = classifier.predict(img_test)\n",
    "    print('Classification Testing Report: \\n', classification_report(label_test, validate_result))\n",
    "    # `confusion_matrix` outputs how many samples are correctly or incorrectly classified\n",
    "    print('Test Confusion Matrix: \\n', confusion_matrix(label_test, validate_result), \"\\n\")\n",
    "    # `accuracy` computes classification accuracy\n",
    "    print('Test Accuracy: ', accuracy_score(label_test, validate_result))\n",
    "    \n",
    "    #export model\n",
    "    dump(classifier, 'svm_model.joblib')\n",
    "\n",
    "    # plot_images_labels_wrong_prediction(img_test, label_test, validate_result, idx = 0, num=10)"
   ]
  },
  {
   "cell_type": "code",
   "execution_count": 2,
   "metadata": {},
   "outputs": [],
   "source": [
    "def plot_images_labels_wrong_prediction(images, labels, prediction, idx, num=100):\n",
    "    fig = plt.gcf()\n",
    "    fig.set_size_inches(50, 50)\n",
    "    if num>25: num=25 \n",
    "    for i in range(0, num):\n",
    "        if idx < 100 :\n",
    "            while labels[idx] == prediction[idx] :\n",
    "                idx+=1\n",
    "            else:\n",
    "                ax=plt.subplot(5,5, 1+i)\n",
    "                image = np.reshape(images[idx], (50, -1))\n",
    "                ax.imshow(image, cmap='gray')\n",
    "\n",
    "                ax.set_title(\"label=\" +str(labels[idx])+\n",
    "                     \",predict=\"+str(prediction[idx])\n",
    "                     ,fontsize=30) \n",
    "        \n",
    "                ax.set_xticks([]);ax.set_yticks([])        \n",
    "                idx+=1 \n",
    "    plt.show()"
   ]
  },
  {
   "cell_type": "code",
   "execution_count": 3,
   "metadata": {},
   "outputs": [],
   "source": [
    "#lbp\n",
    "import cv2\n",
    "from skimage.feature import local_binary_pattern\n",
    "def lbp_histogram(image, radius, bins):\n",
    "    # compute the LBP histogram of the image\n",
    "    n_points = 8 * radius\n",
    "    lbp = local_binary_pattern(image, n_points, radius, method='uniform')\n",
    "    hist, _ = np.histogram(lbp, bins= bins, density=True)\n",
    "    return np.ravel(hist)"
   ]
  },
  {
   "cell_type": "code",
   "execution_count": 4,
   "metadata": {},
   "outputs": [
    {
     "name": "stdout",
     "output_type": "stream",
     "text": [
      "(1776, 200, 200)\n"
     ]
    }
   ],
   "source": [
    "from sklearn import datasets\n",
    "from sklearn.utils import Bunch\n",
    "npdata = np.load('1776_datasetA_200_40.npz')\n",
    "print(npdata['data'].shape)"
   ]
  },
  {
   "cell_type": "code",
   "execution_count": 29,
   "metadata": {},
   "outputs": [
    {
     "name": "stdout",
     "output_type": "stream",
     "text": [
      "(1776, 9)\n"
     ]
    }
   ],
   "source": [
    "number_image = 1776\n",
    "radius = 1 # radius of local binary pattern histogram\n",
    "bins = 8 # max = 256 \n",
    "\n",
    "features=np.zeros(shape=(number_image, bins)) \n",
    "#add lbp to features\n",
    "for i in range(0,number_image):\n",
    "     features[i] = lbp_histogram(npdata['data'][i], radius, bins)\n",
    "        \n",
    "#add depth as features\n",
    "features = np.insert(features, bins, npdata['depth'], axis=1)\n",
    "print(features.shape)"
   ]
  },
  {
   "cell_type": "code",
   "execution_count": 32,
   "metadata": {},
   "outputs": [
    {
     "name": "stdout",
     "output_type": "stream",
     "text": [
      "(1776, 9)\n"
     ]
    }
   ],
   "source": [
    "# normalize lbp\n",
    "for i in range(number_image):\n",
    "    norm = np.linalg.norm(features[i, :])\n",
    "    for j in range(bins):\n",
    "        features[i, j] = features[i, j] / norm\n",
    "        \n",
    "norm = np.linalg.norm(features[:, bins])\n",
    "for i in range(number_image):\n",
    "    features[i, bins] = features[i, bins] / norm\n",
    "    \n",
    "# collect data\n",
    "dataset = Bunch(data = features, target=npdata['label'])\n",
    "print(dataset.data.shape)"
   ]
  },
  {
   "cell_type": "code",
   "execution_count": 39,
   "metadata": {},
   "outputs": [
    {
     "name": "stdout",
     "output_type": "stream",
     "text": [
      "Classification Training Report: \n",
      "               precision    recall  f1-score   support\n",
      "\n",
      "           0       0.98      0.67      0.80       321\n",
      "           1       0.66      0.98      0.79       211\n",
      "\n",
      "    accuracy                           0.79       532\n",
      "   macro avg       0.82      0.83      0.79       532\n",
      "weighted avg       0.85      0.79      0.79       532\n",
      "\n",
      "Train Confusion Matrix: \n",
      " [[215 106]\n",
      " [  4 207]] \n",
      "\n",
      "Train Accuracy:  0.793233082706767\n",
      "\n",
      "\n",
      "Classification Testing Report: \n",
      "               precision    recall  f1-score   support\n",
      "\n",
      "           0       0.97      0.71      0.82       722\n",
      "           1       0.70      0.97      0.81       522\n",
      "\n",
      "    accuracy                           0.82      1244\n",
      "   macro avg       0.84      0.84      0.82      1244\n",
      "weighted avg       0.86      0.82      0.82      1244\n",
      "\n",
      "Test Confusion Matrix: \n",
      " [[511 211]\n",
      " [ 18 504]] \n",
      "\n",
      "Test Accuracy:  0.8159163987138264\n"
     ]
    }
   ],
   "source": [
    "svm_model(dataset, 0.7, 'linear', 2)"
   ]
  }
 ],
 "metadata": {
  "kernelspec": {
   "display_name": "Python 3 (ipykernel)",
   "language": "python",
   "name": "python3"
  },
  "language_info": {
   "codemirror_mode": {
    "name": "ipython",
    "version": 3
   },
   "file_extension": ".py",
   "mimetype": "text/x-python",
   "name": "python",
   "nbconvert_exporter": "python",
   "pygments_lexer": "ipython3",
   "version": "3.9.13"
  }
 },
 "nbformat": 4,
 "nbformat_minor": 4
}
